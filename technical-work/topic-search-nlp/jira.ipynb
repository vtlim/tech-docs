{
 "cells": [
  {
   "cell_type": "markdown",
   "id": "d0d53c54",
   "metadata": {},
   "source": [
    "\n",
    "References\n",
    "* [Searching Jira](https://www.atlassian.com/blog/jira-software/jql-the-most-flexible-way-to-search-jira-14)\n",
    "* [Jira expressions types](https://developer.atlassian.com/cloud/jira/platform/jira-expressions-type-reference/)\n",
    "\n",
    "Notes\n",
    "\n",
    "* `search_term` may look funky with the three sets of escape characters, but they are needed. See Atlassian docs for [JQL operators](https://support.atlassian.com/jira-software-cloud/docs/advanced-search-reference-jql-operators/#Advancedsearchingoperatorsreference-CONTAINS-CONTAINS--)"
   ]
  },
  {
   "cell_type": "code",
   "execution_count": null,
   "id": "23ff7c21",
   "metadata": {},
   "outputs": [],
   "source": []
  },
  {
   "cell_type": "code",
   "execution_count": 1,
   "id": "d3dff06e",
   "metadata": {},
   "outputs": [],
   "source": [
    "from jira import JIRA"
   ]
  },
  {
   "cell_type": "code",
   "execution_count": 2,
   "id": "26c34624",
   "metadata": {},
   "outputs": [],
   "source": [
    "JIRA_URL = \"https://implydata.atlassian.net\"\n",
    "jira_user = \"victoria.lim@imply.io\"\n",
    "jira_token = \"9hYmikHZFs9gL1HCG4Tp9E08\""
   ]
  },
  {
   "cell_type": "code",
   "execution_count": 3,
   "id": "a2905c6e",
   "metadata": {},
   "outputs": [],
   "source": [
    "j = JIRA(JIRA_URL, basic_auth=(jira_user, jira_token))"
   ]
  },
  {
   "cell_type": "code",
   "execution_count": 49,
   "id": "dfe303ce",
   "metadata": {},
   "outputs": [],
   "source": [
    "project_label = \"REQ\"\n",
    "search_term = \"\\\"\\\\\\\"string_to_mv\\\\\\\"\\\"\"\n",
    "desired_fields = \"summary, description, comment\""
   ]
  },
  {
   "cell_type": "code",
   "execution_count": 6,
   "id": "7336f4f8",
   "metadata": {},
   "outputs": [],
   "source": [
    "search_string = f\"project={project_label} AND text ~ {search_term}\""
   ]
  },
  {
   "cell_type": "code",
   "execution_count": 50,
   "id": "b37bf245",
   "metadata": {},
   "outputs": [],
   "source": [
    "issues = j.search_issues(search_string, fields=desired_fields)"
   ]
  },
  {
   "cell_type": "code",
   "execution_count": 39,
   "id": "d01492ad",
   "metadata": {},
   "outputs": [
    {
     "data": {
      "text/plain": [
       "[<JIRA Issue: key='REQ-2832', id='40891'>,\n",
       " <JIRA Issue: key='REQ-2190', id='32678'>,\n",
       " <JIRA Issue: key='REQ-1913', id='30601'>,\n",
       " <JIRA Issue: key='REQ-1872', id='30259'>,\n",
       " <JIRA Issue: key='REQ-506', id='22203'>]"
      ]
     },
     "execution_count": 39,
     "metadata": {},
     "output_type": "execute_result"
    }
   ],
   "source": [
    "issues"
   ]
  },
  {
   "cell_type": "code",
   "execution_count": 9,
   "id": "88d2c24d",
   "metadata": {},
   "outputs": [
    {
     "ename": "SyntaxError",
     "evalue": "invalid syntax (3126071442.py, line 1)",
     "output_type": "error",
     "traceback": [
      "\u001b[0;36m  File \u001b[0;32m\"/var/folders/s1/fglgkfxd3cv8xfvw1yx_qhnw0000gn/T/ipykernel_22208/3126071442.py\"\u001b[0;36m, line \u001b[0;32m1\u001b[0m\n\u001b[0;31m    issue.comments.map(c => c.body.plainText)\u001b[0m\n\u001b[0m                          ^\u001b[0m\n\u001b[0;31mSyntaxError\u001b[0m\u001b[0;31m:\u001b[0m invalid syntax\n"
     ]
    }
   ],
   "source": [
    "issue.comments.map(c => c.body.plainText)"
   ]
  },
  {
   "cell_type": "code",
   "execution_count": 51,
   "id": "26f8b2a3",
   "metadata": {},
   "outputs": [
    {
     "data": {
      "text/plain": [
       "['__class__',\n",
       " '__delattr__',\n",
       " '__dict__',\n",
       " '__dir__',\n",
       " '__doc__',\n",
       " '__eq__',\n",
       " '__format__',\n",
       " '__ge__',\n",
       " '__getattribute__',\n",
       " '__gt__',\n",
       " '__hash__',\n",
       " '__init__',\n",
       " '__init_subclass__',\n",
       " '__le__',\n",
       " '__lt__',\n",
       " '__module__',\n",
       " '__ne__',\n",
       " '__new__',\n",
       " '__reduce__',\n",
       " '__reduce_ex__',\n",
       " '__repr__',\n",
       " '__setattr__',\n",
       " '__sizeof__',\n",
       " '__str__',\n",
       " '__subclasshook__',\n",
       " '__weakref__',\n",
       " 'comment',\n",
       " 'description',\n",
       " 'summary']"
      ]
     },
     "execution_count": 51,
     "metadata": {},
     "output_type": "execute_result"
    }
   ],
   "source": [
    "dir(issues[0].fields)"
   ]
  },
  {
   "cell_type": "code",
   "execution_count": 54,
   "id": "2c28effe",
   "metadata": {},
   "outputs": [
    {
     "data": {
      "text/plain": [
       "[<JIRA Comment: id='95372'>,\n",
       " <JIRA Comment: id='95456'>,\n",
       " <JIRA Comment: id='95459'>]"
      ]
     },
     "execution_count": 54,
     "metadata": {},
     "output_type": "execute_result"
    }
   ],
   "source": [
    "issues[0].fields.comment.comments"
   ]
  },
  {
   "cell_type": "code",
   "execution_count": 52,
   "id": "2df262f7",
   "metadata": {},
   "outputs": [
    {
     "data": {
      "text/plain": [
       "'Customer has a lookup k,v table with the values in the format\\r\\nk1, val1\\r\\nk2, val2,val3\\r\\n\\r\\nThey wish to do a lookup and turn the value into a list\\r\\n\\r\\nWhen they select a single value in the where clause it breaks. Multi value works\\r\\nI have managed to replicate in Sales Dev account. This is blocking the final phase of a POC\\r\\n\\r\\nSELECT\\r\\n(STRING_TO_MV(COALESCE(LOOKUP(key, \\'richtest\\'), \\'Customer not found\\'),\\',\\')) AS \"STRING_-f32\",\\r\\n(COUNT(*)) AS \"count\"\\r\\nFROM \"richtest2\" AS t\\r\\nWHERE (t.\"key\") IN (0)\\r\\nGROUP BY 1\\r\\nORDER BY \"count\" DESC\\r\\nLIMIT 100\\r\\n\\r\\nWorks as expected\\r\\n\\r\\nSELECT\\r\\n(STRING_TO_MV(COALESCE(LOOKUP(key, \\'richtest\\'), \\'Customer not found\\'),\\',\\')) AS \"STRING_-f32\",\\r\\n(COUNT(*)) AS \"count\"\\r\\nFROM \"richtest2\" AS t\\r\\nWHERE (t.\"key\") IN (\\'0\\')\\r\\nGROUP BY 1\\r\\nORDER BY \"count\" DESC\\r\\nLIMIT 100\\r\\n\\r\\nBreaks (this is as generated by pivot)\\r\\n\\r\\n\\r\\nSELECT\\r\\n(STRING_TO_MV(COALESCE(LOOKUP(key, \\'richtest\\'), \\'Customer not found\\'),\\',\\')) AS \"STRING_-f32\",\\r\\n(COUNT(*)) AS \"count\"\\r\\nFROM \"richtest2\" AS t\\r\\nWHERE (t.\"key\") IN (\\'0\\',\\'2\\')\\r\\nGROUP BY 1\\r\\nORDER BY \"count\" DESC\\r\\nLIMIT 100\\r\\n\\r\\nWorks as expected\\r\\n\\r\\nThey are intending to use this as part of a Pivot datacube so are unable to hardcode the SQL query\\r\\n !Screenshot 2021-12-03 at 11.56.56.png|thumbnail! \\r\\n !Screenshot 2021-12-03 at 11.54.17.png|thumbnail! \\r\\n !Screenshot 2021-12-03 at 11.51.03.png|thumbnail! '"
      ]
     },
     "execution_count": 52,
     "metadata": {},
     "output_type": "execute_result"
    }
   ],
   "source": [
    "issues[0].fields.description"
   ]
  },
  {
   "cell_type": "code",
   "execution_count": 53,
   "id": "f42f0097",
   "metadata": {},
   "outputs": [
    {
     "data": {
      "text/plain": [
       "'Error when using STRING_TO_MV function and a where clause'"
      ]
     },
     "execution_count": 53,
     "metadata": {},
     "output_type": "execute_result"
    }
   ],
   "source": [
    "issues[0].fields.summary"
   ]
  },
  {
   "cell_type": "code",
   "execution_count": 67,
   "id": "a3c9b72e",
   "metadata": {},
   "outputs": [],
   "source": [
    "all_comments = ([issue.raw['fields']['comment']['comments'] for issue in issues])"
   ]
  },
  {
   "cell_type": "code",
   "execution_count": 68,
   "id": "bfbfd3d5",
   "metadata": {},
   "outputs": [
    {
     "data": {
      "text/plain": [
       "'I’ve created [https://github.com/apache/druid/pull/12025|https://github.com/apache/druid/pull/12025|smart-link] to fix the issues'"
      ]
     },
     "execution_count": 68,
     "metadata": {},
     "output_type": "execute_result"
    }
   ],
   "source": [
    "# view the third comment of the first issue\n",
    "all_comments[0][2]['body']"
   ]
  },
  {
   "cell_type": "code",
   "execution_count": null,
   "id": "ecf2f2f0",
   "metadata": {},
   "outputs": [],
   "source": []
  }
 ],
 "metadata": {
  "kernelspec": {
   "display_name": "Python 3 (ipykernel)",
   "language": "python",
   "name": "python3"
  },
  "language_info": {
   "codemirror_mode": {
    "name": "ipython",
    "version": 3
   },
   "file_extension": ".py",
   "mimetype": "text/x-python",
   "name": "python",
   "nbconvert_exporter": "python",
   "pygments_lexer": "ipython3",
   "version": "3.9.5"
  }
 },
 "nbformat": 4,
 "nbformat_minor": 5
}
